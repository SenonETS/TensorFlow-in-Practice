{
 "cells": [
  {
   "cell_type": "markdown",
   "metadata": {},
   "source": [
    "Reference:\n",
    "    https://www.tensorflow.org/tutorials/keras/regression"
   ]
  },
  {
   "cell_type": "markdown",
   "metadata": {
    "colab_type": "text",
    "id": "E3TlBV0vK0WA"
   },
   "source": [
    "# 0. Load TensorFlow 2.0"
   ]
  },
  {
   "cell_type": "code",
   "execution_count": 0,
   "metadata": {
    "colab": {
     "base_uri": "https://localhost:8080/",
     "height": 35
    },
    "colab_type": "code",
    "executionInfo": {
     "elapsed": 273,
     "status": "ok",
     "timestamp": 1572832345837,
     "user": {
      "displayName": "Sen Li",
      "photoUrl": "https://lh3.googleusercontent.com/a-/AAuE7mAFpGXjVhiyn6GNt8NgkaEI7tOv9lD42jPpDOysoQ=s64",
      "userId": "02312626306452221696"
     },
     "user_tz": 300
    },
    "id": "RG2LIKDjGvMc",
    "outputId": "24d12a18-6ef9-4518-925b-514a70dad982"
   },
   "outputs": [
    {
     "name": "stdout",
     "output_type": "stream",
     "text": [
      "TensorFlow 2.x selected.\n"
     ]
    }
   ],
   "source": [
    "try:\n",
    "  # %tensorflow_version only exists in Colab.\n",
    "  %tensorflow_version 2.x\n",
    "except Exception:\n",
    "  pass"
   ]
  },
  {
   "cell_type": "code",
   "execution_count": 0,
   "metadata": {
    "colab": {
     "base_uri": "https://localhost:8080/",
     "height": 35
    },
    "colab_type": "code",
    "executionInfo": {
     "elapsed": 3850,
     "status": "ok",
     "timestamp": 1572832351423,
     "user": {
      "displayName": "Sen Li",
      "photoUrl": "https://lh3.googleusercontent.com/a-/AAuE7mAFpGXjVhiyn6GNt8NgkaEI7tOv9lD42jPpDOysoQ=s64",
      "userId": "02312626306452221696"
     },
     "user_tz": 300
    },
    "id": "GU6heXjaHEuk",
    "outputId": "71ed4b14-fee8-4122-c962-bb3cabafb54c"
   },
   "outputs": [
    {
     "name": "stdout",
     "output_type": "stream",
     "text": [
      "Current TensorFlow Version: \t 2.0.0\n"
     ]
    }
   ],
   "source": [
    "import tensorflow as tf\n",
    "print(\"Current TensorFlow Version: \\t\", tf.__version__)\n",
    "if (tf.__version__ != \"2.0.0\" and tf.__version__ != \"2.0.0-beta1\"):  \n",
    "  !pip install tensorflow==2.0.0\n",
    "  print(\"Upgrade TensorFlow Version: \\t\", tf.__version__)"
   ]
  },
  {
   "cell_type": "code",
   "execution_count": 0,
   "metadata": {
    "colab": {},
    "colab_type": "code",
    "id": "g07dLc5vHQU1"
   },
   "outputs": [],
   "source": [
    "import numpy as np\n",
    "import pandas as pd\n",
    "import matplotlib.pyplot as plt\n",
    "import seaborn as sns\n",
    "import time\n",
    "\n",
    "from tensorflow import keras\n",
    "from tensorflow.keras import layers"
   ]
  },
  {
   "cell_type": "markdown",
   "metadata": {
    "colab_type": "text",
    "id": "6TGUXiDOeml7"
   },
   "source": [
    "# 1. Data Preprocessing"
   ]
  },
  {
   "cell_type": "markdown",
   "metadata": {
    "colab_type": "text",
    "id": "u2ulcVoALEZJ"
   },
   "source": [
    "## 1.1 Load DataSet"
   ]
  },
  {
   "cell_type": "code",
   "execution_count": 0,
   "metadata": {
    "colab": {
     "base_uri": "https://localhost:8080/",
     "height": 35
    },
    "colab_type": "code",
    "executionInfo": {
     "elapsed": 278,
     "status": "ok",
     "timestamp": 1572832756127,
     "user": {
      "displayName": "Sen Li",
      "photoUrl": "https://lh3.googleusercontent.com/a-/AAuE7mAFpGXjVhiyn6GNt8NgkaEI7tOv9lD42jPpDOysoQ=s64",
      "userId": "02312626306452221696"
     },
     "user_tz": 300
    },
    "id": "fM3HWnncHa5m",
    "outputId": "38607cde-5d14-465b-e76f-2aadef44e3cb"
   },
   "outputs": [
    {
     "data": {
      "text/plain": [
       "'/root/.keras/datasets/auto-mpg.data'"
      ]
     },
     "execution_count": 6,
     "metadata": {
      "tags": []
     },
     "output_type": "execute_result"
    }
   ],
   "source": [
    "datasetPath = keras.utils.get_file(\"auto-mpg.data\", \"http://archive.ics.uci.edu/ml/machine-learning-databases/auto-mpg/auto-mpg.data\")\n",
    "datasetPath"
   ]
  },
  {
   "cell_type": "code",
   "execution_count": 13,
   "metadata": {
    "colab": {
     "base_uri": "https://localhost:8080/",
     "height": 198
    },
    "colab_type": "code",
    "executionInfo": {
     "elapsed": 349,
     "status": "ok",
     "timestamp": 1572835439691,
     "user": {
      "displayName": "Sen Li",
      "photoUrl": "https://lh3.googleusercontent.com/a-/AAuE7mAFpGXjVhiyn6GNt8NgkaEI7tOv9lD42jPpDOysoQ=s64",
      "userId": "02312626306452221696"
     },
     "user_tz": 300
    },
    "id": "Wyf-hp2dHlXY",
    "outputId": "ae2478d7-5c66-4aea-bec0-2bc6dc9a79a6"
   },
   "outputs": [
    {
     "data": {
      "text/html": [
       "<div>\n",
       "<style scoped>\n",
       "    .dataframe tbody tr th:only-of-type {\n",
       "        vertical-align: middle;\n",
       "    }\n",
       "\n",
       "    .dataframe tbody tr th {\n",
       "        vertical-align: top;\n",
       "    }\n",
       "\n",
       "    .dataframe thead th {\n",
       "        text-align: right;\n",
       "    }\n",
       "</style>\n",
       "<table border=\"1\" class=\"dataframe\">\n",
       "  <thead>\n",
       "    <tr style=\"text-align: right;\">\n",
       "      <th></th>\n",
       "      <th>MPG</th>\n",
       "      <th>Cylinders</th>\n",
       "      <th>Displacement</th>\n",
       "      <th>Horsepower</th>\n",
       "      <th>Weight</th>\n",
       "      <th>Acceleration</th>\n",
       "      <th>Model Year</th>\n",
       "      <th>Origin</th>\n",
       "    </tr>\n",
       "  </thead>\n",
       "  <tbody>\n",
       "    <tr>\n",
       "      <th>393</th>\n",
       "      <td>27.0</td>\n",
       "      <td>4</td>\n",
       "      <td>140.0</td>\n",
       "      <td>86.0</td>\n",
       "      <td>2790.0</td>\n",
       "      <td>15.6</td>\n",
       "      <td>82</td>\n",
       "      <td>1</td>\n",
       "    </tr>\n",
       "    <tr>\n",
       "      <th>394</th>\n",
       "      <td>44.0</td>\n",
       "      <td>4</td>\n",
       "      <td>97.0</td>\n",
       "      <td>52.0</td>\n",
       "      <td>2130.0</td>\n",
       "      <td>24.6</td>\n",
       "      <td>82</td>\n",
       "      <td>2</td>\n",
       "    </tr>\n",
       "    <tr>\n",
       "      <th>395</th>\n",
       "      <td>32.0</td>\n",
       "      <td>4</td>\n",
       "      <td>135.0</td>\n",
       "      <td>84.0</td>\n",
       "      <td>2295.0</td>\n",
       "      <td>11.6</td>\n",
       "      <td>82</td>\n",
       "      <td>1</td>\n",
       "    </tr>\n",
       "    <tr>\n",
       "      <th>396</th>\n",
       "      <td>28.0</td>\n",
       "      <td>4</td>\n",
       "      <td>120.0</td>\n",
       "      <td>79.0</td>\n",
       "      <td>2625.0</td>\n",
       "      <td>18.6</td>\n",
       "      <td>82</td>\n",
       "      <td>1</td>\n",
       "    </tr>\n",
       "    <tr>\n",
       "      <th>397</th>\n",
       "      <td>31.0</td>\n",
       "      <td>4</td>\n",
       "      <td>119.0</td>\n",
       "      <td>82.0</td>\n",
       "      <td>2720.0</td>\n",
       "      <td>19.4</td>\n",
       "      <td>82</td>\n",
       "      <td>1</td>\n",
       "    </tr>\n",
       "  </tbody>\n",
       "</table>\n",
       "</div>"
      ],
      "text/plain": [
       "      MPG  Cylinders  Displacement  ...  Acceleration  Model Year  Origin\n",
       "393  27.0          4         140.0  ...          15.6          82       1\n",
       "394  44.0          4          97.0  ...          24.6          82       2\n",
       "395  32.0          4         135.0  ...          11.6          82       1\n",
       "396  28.0          4         120.0  ...          18.6          82       1\n",
       "397  31.0          4         119.0  ...          19.4          82       1\n",
       "\n",
       "[5 rows x 8 columns]"
      ]
     },
     "execution_count": 13,
     "metadata": {
      "tags": []
     },
     "output_type": "execute_result"
    }
   ],
   "source": [
    "columnNames = ['MPG','Cylinders','Displacement','Horsepower','Weight',\n",
    "                'Acceleration', 'Model Year', 'Origin']\n",
    "df_DataSet_Raw = pd.read_csv(datasetPath, names=columnNames, na_values = \"?\",\n",
    "                          comment='\\t', sep=\" \", skipinitialspace=True)\n",
    "df_DataSet_Raw.tail()"
   ]
  },
  {
   "cell_type": "markdown",
   "metadata": {
    "colab_type": "text",
    "id": "Eq56Mg1NOHvf"
   },
   "source": [
    "## 1.2 Clean Data"
   ]
  },
  {
   "cell_type": "code",
   "execution_count": 17,
   "metadata": {
    "colab": {
     "base_uri": "https://localhost:8080/",
     "height": 235
    },
    "colab_type": "code",
    "executionInfo": {
     "elapsed": 378,
     "status": "ok",
     "timestamp": 1572836078603,
     "user": {
      "displayName": "Sen Li",
      "photoUrl": "https://lh3.googleusercontent.com/a-/AAuE7mAFpGXjVhiyn6GNt8NgkaEI7tOv9lD42jPpDOysoQ=s64",
      "userId": "02312626306452221696"
     },
     "user_tz": 300
    },
    "id": "1rQct9PnIxAp",
    "outputId": "3fbf9695-6fdb-4c30-9750-be2f52fcfa2f"
   },
   "outputs": [
    {
     "name": "stdout",
     "output_type": "stream",
     "text": [
      "MPG             0\n",
      "Cylinders       0\n",
      "Displacement    0\n",
      "Horsepower      6\n",
      "Weight          0\n",
      "Acceleration    0\n",
      "Model Year      0\n",
      "Origin          0\n",
      "dtype: int64\n",
      "df_DataSet_Raw Shape Before DropNA: \t\t (398, 8)\n",
      "df_DataSet     Shape After  DropNA: \t\t (392, 8)\n",
      "df_DataSet     Shape After  pop('Origin'): \t (392, 7)\n"
     ]
    }
   ],
   "source": [
    "print(df_DataSet_Raw.isna().sum(axis=0))\n",
    "df_DataSet = df_DataSet_Raw.dropna()\n",
    "print(\"df_DataSet_Raw Shape Before DropNA: \\t\\t\", df_DataSet_Raw.shape)\n",
    "print(\"df_DataSet     Shape After  DropNA: \\t\\t\", df_DataSet.shape)\n",
    "ss_Origin = df_DataSet.pop('Origin')\n",
    "print(\"df_DataSet     Shape After  pop('Origin'): \\t\", df_DataSet.shape)"
   ]
  },
  {
   "cell_type": "code",
   "execution_count": 18,
   "metadata": {
    "colab": {
     "base_uri": "https://localhost:8080/",
     "height": 544
    },
    "colab_type": "code",
    "executionInfo": {
     "elapsed": 415,
     "status": "ok",
     "timestamp": 1572836095028,
     "user": {
      "displayName": "Sen Li",
      "photoUrl": "https://lh3.googleusercontent.com/a-/AAuE7mAFpGXjVhiyn6GNt8NgkaEI7tOv9lD42jPpDOysoQ=s64",
      "userId": "02312626306452221696"
     },
     "user_tz": 300
    },
    "id": "k0bal9wrOZhg",
    "outputId": "4a9fbdd2-f37e-47ad-9ae4-972fbf6a8c0f"
   },
   "outputs": [
    {
     "name": "stdout",
     "output_type": "stream",
     "text": [
      "New df_DataSet shape:\t (392, 10)\n"
     ]
    },
    {
     "name": "stderr",
     "output_type": "stream",
     "text": [
      "/usr/local/lib/python3.6/dist-packages/ipykernel_launcher.py:1: SettingWithCopyWarning: \n",
      "A value is trying to be set on a copy of a slice from a DataFrame.\n",
      "Try using .loc[row_indexer,col_indexer] = value instead\n",
      "\n",
      "See the caveats in the documentation: http://pandas.pydata.org/pandas-docs/stable/user_guide/indexing.html#returning-a-view-versus-a-copy\n",
      "  \"\"\"Entry point for launching an IPython kernel.\n",
      "/usr/local/lib/python3.6/dist-packages/ipykernel_launcher.py:2: SettingWithCopyWarning: \n",
      "A value is trying to be set on a copy of a slice from a DataFrame.\n",
      "Try using .loc[row_indexer,col_indexer] = value instead\n",
      "\n",
      "See the caveats in the documentation: http://pandas.pydata.org/pandas-docs/stable/user_guide/indexing.html#returning-a-view-versus-a-copy\n",
      "  \n",
      "/usr/local/lib/python3.6/dist-packages/ipykernel_launcher.py:3: SettingWithCopyWarning: \n",
      "A value is trying to be set on a copy of a slice from a DataFrame.\n",
      "Try using .loc[row_indexer,col_indexer] = value instead\n",
      "\n",
      "See the caveats in the documentation: http://pandas.pydata.org/pandas-docs/stable/user_guide/indexing.html#returning-a-view-versus-a-copy\n",
      "  This is separate from the ipykernel package so we can avoid doing imports until\n"
     ]
    },
    {
     "data": {
      "text/html": [
       "<div>\n",
       "<style scoped>\n",
       "    .dataframe tbody tr th:only-of-type {\n",
       "        vertical-align: middle;\n",
       "    }\n",
       "\n",
       "    .dataframe tbody tr th {\n",
       "        vertical-align: top;\n",
       "    }\n",
       "\n",
       "    .dataframe thead th {\n",
       "        text-align: right;\n",
       "    }\n",
       "</style>\n",
       "<table border=\"1\" class=\"dataframe\">\n",
       "  <thead>\n",
       "    <tr style=\"text-align: right;\">\n",
       "      <th></th>\n",
       "      <th>MPG</th>\n",
       "      <th>Cylinders</th>\n",
       "      <th>Displacement</th>\n",
       "      <th>Horsepower</th>\n",
       "      <th>Weight</th>\n",
       "      <th>Acceleration</th>\n",
       "      <th>Model Year</th>\n",
       "      <th>USA</th>\n",
       "      <th>Europe</th>\n",
       "      <th>Japan</th>\n",
       "    </tr>\n",
       "  </thead>\n",
       "  <tbody>\n",
       "    <tr>\n",
       "      <th>393</th>\n",
       "      <td>27.0</td>\n",
       "      <td>4</td>\n",
       "      <td>140.0</td>\n",
       "      <td>86.0</td>\n",
       "      <td>2790.0</td>\n",
       "      <td>15.6</td>\n",
       "      <td>82</td>\n",
       "      <td>1.0</td>\n",
       "      <td>0.0</td>\n",
       "      <td>0.0</td>\n",
       "    </tr>\n",
       "    <tr>\n",
       "      <th>394</th>\n",
       "      <td>44.0</td>\n",
       "      <td>4</td>\n",
       "      <td>97.0</td>\n",
       "      <td>52.0</td>\n",
       "      <td>2130.0</td>\n",
       "      <td>24.6</td>\n",
       "      <td>82</td>\n",
       "      <td>0.0</td>\n",
       "      <td>1.0</td>\n",
       "      <td>0.0</td>\n",
       "    </tr>\n",
       "    <tr>\n",
       "      <th>395</th>\n",
       "      <td>32.0</td>\n",
       "      <td>4</td>\n",
       "      <td>135.0</td>\n",
       "      <td>84.0</td>\n",
       "      <td>2295.0</td>\n",
       "      <td>11.6</td>\n",
       "      <td>82</td>\n",
       "      <td>1.0</td>\n",
       "      <td>0.0</td>\n",
       "      <td>0.0</td>\n",
       "    </tr>\n",
       "    <tr>\n",
       "      <th>396</th>\n",
       "      <td>28.0</td>\n",
       "      <td>4</td>\n",
       "      <td>120.0</td>\n",
       "      <td>79.0</td>\n",
       "      <td>2625.0</td>\n",
       "      <td>18.6</td>\n",
       "      <td>82</td>\n",
       "      <td>1.0</td>\n",
       "      <td>0.0</td>\n",
       "      <td>0.0</td>\n",
       "    </tr>\n",
       "    <tr>\n",
       "      <th>397</th>\n",
       "      <td>31.0</td>\n",
       "      <td>4</td>\n",
       "      <td>119.0</td>\n",
       "      <td>82.0</td>\n",
       "      <td>2720.0</td>\n",
       "      <td>19.4</td>\n",
       "      <td>82</td>\n",
       "      <td>1.0</td>\n",
       "      <td>0.0</td>\n",
       "      <td>0.0</td>\n",
       "    </tr>\n",
       "  </tbody>\n",
       "</table>\n",
       "</div>"
      ],
      "text/plain": [
       "      MPG  Cylinders  Displacement  Horsepower  ...  Model Year  USA  Europe  Japan\n",
       "393  27.0          4         140.0        86.0  ...          82  1.0     0.0    0.0\n",
       "394  44.0          4          97.0        52.0  ...          82  0.0     1.0    0.0\n",
       "395  32.0          4         135.0        84.0  ...          82  1.0     0.0    0.0\n",
       "396  28.0          4         120.0        79.0  ...          82  1.0     0.0    0.0\n",
       "397  31.0          4         119.0        82.0  ...          82  1.0     0.0    0.0\n",
       "\n",
       "[5 rows x 10 columns]"
      ]
     },
     "execution_count": 18,
     "metadata": {
      "tags": []
     },
     "output_type": "execute_result"
    }
   ],
   "source": [
    "df_DataSet['USA'] = (ss_Origin == 1)*1.0\n",
    "df_DataSet['Europe'] = (ss_Origin == 2)*1.0\n",
    "df_DataSet['Japan'] = (ss_Origin == 3)*1.0\n",
    "print(\"New df_DataSet shape:\\t\", df_DataSet.shape)\n",
    "df_DataSet.tail()"
   ]
  },
  {
   "cell_type": "markdown",
   "metadata": {
    "colab_type": "text",
    "id": "dmjJfrnGVmy5"
   },
   "source": [
    "## 1.3 Split into TrainingSet and TestSet"
   ]
  },
  {
   "cell_type": "code",
   "execution_count": 19,
   "metadata": {
    "colab": {
     "base_uri": "https://localhost:8080/",
     "height": 72
    },
    "colab_type": "code",
    "executionInfo": {
     "elapsed": 345,
     "status": "ok",
     "timestamp": 1572836133343,
     "user": {
      "displayName": "Sen Li",
      "photoUrl": "https://lh3.googleusercontent.com/a-/AAuE7mAFpGXjVhiyn6GNt8NgkaEI7tOv9lD42jPpDOysoQ=s64",
      "userId": "02312626306452221696"
     },
     "user_tz": 300
    },
    "id": "yKrQRRhXOeBW",
    "outputId": "25d1e6c1-b884-47df-8f2c-4fe233ac1f85"
   },
   "outputs": [
    {
     "name": "stdout",
     "output_type": "stream",
     "text": [
      "df_DataSet shape:\t (392, 10)\n",
      "df_TrainingSet shape:\t (314, 10)\n",
      "df_TestSet shape:\t (78, 10)\n"
     ]
    }
   ],
   "source": [
    "df_TrainingSet = df_DataSet.sample(frac=0.8,random_state=0)\n",
    "df_TestSet  = df_DataSet.drop(df_TrainingSet.index)\n",
    "print(\"df_DataSet shape:\\t\", df_DataSet.shape)\n",
    "print(\"df_TrainingSet shape:\\t\", df_TrainingSet.shape)\n",
    "print(\"df_TestSet shape:\\t\", df_TestSet.shape)"
   ]
  },
  {
   "cell_type": "markdown",
   "metadata": {
    "colab_type": "text",
    "id": "i_7bVCx0V5ZJ"
   },
   "source": [
    "#1.4 Inspect the data"
   ]
  },
  {
   "cell_type": "code",
   "execution_count": 20,
   "metadata": {
    "colab": {
     "base_uri": "https://localhost:8080/",
     "height": 743
    },
    "colab_type": "code",
    "executionInfo": {
     "elapsed": 4975,
     "status": "ok",
     "timestamp": 1572836420453,
     "user": {
      "displayName": "Sen Li",
      "photoUrl": "https://lh3.googleusercontent.com/a-/AAuE7mAFpGXjVhiyn6GNt8NgkaEI7tOv9lD42jPpDOysoQ=s64",
      "userId": "02312626306452221696"
     },
     "user_tz": 300
    },
    "id": "1urP2BdKTGkD",
    "outputId": "97e4dd99-ba9b-4836-fc91-aea2f42e3979"
   },
   "outputs": [
    {
     "data": {
      "text/plain": [
       "<seaborn.axisgrid.PairGrid at 0x7f31fc263320>"
      ]
     },
     "execution_count": 20,
     "metadata": {
      "tags": []
     },
     "output_type": "execute_result"
    },
    {
     "data": {
      "image/png": "[encoded data removed]",
      "text/plain": [
       "<Figure size 720x720 with 20 Axes>"
      ]
     },
     "metadata": {
      "tags": []
     },
     "output_type": "display_data"
    }
   ],
   "source": [
    "sns.pairplot(df_TrainingSet[[\"MPG\", \"Cylinders\", \"Displacement\", \"Weight\"]], diag_kind=\"kde\")"
   ]
  },
  {
   "cell_type": "code",
   "execution_count": 21,
   "metadata": {
    "colab": {
     "base_uri": "https://localhost:8080/",
     "height": 318
    },
    "colab_type": "code",
    "executionInfo": {
     "elapsed": 336,
     "status": "ok",
     "timestamp": 1572836425540,
     "user": {
      "displayName": "Sen Li",
      "photoUrl": "https://lh3.googleusercontent.com/a-/AAuE7mAFpGXjVhiyn6GNt8NgkaEI7tOv9lD42jPpDOysoQ=s64",
      "userId": "02312626306452221696"
     },
     "user_tz": 300
    },
    "id": "krRJeiy5TGnD",
    "outputId": "6c6d661c-033c-4b9f-e80b-08b3ec2d64f9"
   },
   "outputs": [
    {
     "data": {
      "text/html": [
       "<div>\n",
       "<style scoped>\n",
       "    .dataframe tbody tr th:only-of-type {\n",
       "        vertical-align: middle;\n",
       "    }\n",
       "\n",
       "    .dataframe tbody tr th {\n",
       "        vertical-align: top;\n",
       "    }\n",
       "\n",
       "    .dataframe thead th {\n",
       "        text-align: right;\n",
       "    }\n",
       "</style>\n",
       "<table border=\"1\" class=\"dataframe\">\n",
       "  <thead>\n",
       "    <tr style=\"text-align: right;\">\n",
       "      <th></th>\n",
       "      <th>count</th>\n",
       "      <th>mean</th>\n",
       "      <th>std</th>\n",
       "      <th>min</th>\n",
       "      <th>25%</th>\n",
       "      <th>50%</th>\n",
       "      <th>75%</th>\n",
       "      <th>max</th>\n",
       "    </tr>\n",
       "  </thead>\n",
       "  <tbody>\n",
       "    <tr>\n",
       "      <th>Cylinders</th>\n",
       "      <td>314.0</td>\n",
       "      <td>5.477707</td>\n",
       "      <td>1.699788</td>\n",
       "      <td>3.0</td>\n",
       "      <td>4.00</td>\n",
       "      <td>4.0</td>\n",
       "      <td>8.00</td>\n",
       "      <td>8.0</td>\n",
       "    </tr>\n",
       "    <tr>\n",
       "      <th>Displacement</th>\n",
       "      <td>314.0</td>\n",
       "      <td>195.318471</td>\n",
       "      <td>104.331589</td>\n",
       "      <td>68.0</td>\n",
       "      <td>105.50</td>\n",
       "      <td>151.0</td>\n",
       "      <td>265.75</td>\n",
       "      <td>455.0</td>\n",
       "    </tr>\n",
       "    <tr>\n",
       "      <th>Horsepower</th>\n",
       "      <td>314.0</td>\n",
       "      <td>104.869427</td>\n",
       "      <td>38.096214</td>\n",
       "      <td>46.0</td>\n",
       "      <td>76.25</td>\n",
       "      <td>94.5</td>\n",
       "      <td>128.00</td>\n",
       "      <td>225.0</td>\n",
       "    </tr>\n",
       "    <tr>\n",
       "      <th>Weight</th>\n",
       "      <td>314.0</td>\n",
       "      <td>2990.251592</td>\n",
       "      <td>843.898596</td>\n",
       "      <td>1649.0</td>\n",
       "      <td>2256.50</td>\n",
       "      <td>2822.5</td>\n",
       "      <td>3608.00</td>\n",
       "      <td>5140.0</td>\n",
       "    </tr>\n",
       "    <tr>\n",
       "      <th>Acceleration</th>\n",
       "      <td>314.0</td>\n",
       "      <td>15.559236</td>\n",
       "      <td>2.789230</td>\n",
       "      <td>8.0</td>\n",
       "      <td>13.80</td>\n",
       "      <td>15.5</td>\n",
       "      <td>17.20</td>\n",
       "      <td>24.8</td>\n",
       "    </tr>\n",
       "    <tr>\n",
       "      <th>Model Year</th>\n",
       "      <td>314.0</td>\n",
       "      <td>75.898089</td>\n",
       "      <td>3.675642</td>\n",
       "      <td>70.0</td>\n",
       "      <td>73.00</td>\n",
       "      <td>76.0</td>\n",
       "      <td>79.00</td>\n",
       "      <td>82.0</td>\n",
       "    </tr>\n",
       "    <tr>\n",
       "      <th>USA</th>\n",
       "      <td>314.0</td>\n",
       "      <td>0.624204</td>\n",
       "      <td>0.485101</td>\n",
       "      <td>0.0</td>\n",
       "      <td>0.00</td>\n",
       "      <td>1.0</td>\n",
       "      <td>1.00</td>\n",
       "      <td>1.0</td>\n",
       "    </tr>\n",
       "    <tr>\n",
       "      <th>Europe</th>\n",
       "      <td>314.0</td>\n",
       "      <td>0.178344</td>\n",
       "      <td>0.383413</td>\n",
       "      <td>0.0</td>\n",
       "      <td>0.00</td>\n",
       "      <td>0.0</td>\n",
       "      <td>0.00</td>\n",
       "      <td>1.0</td>\n",
       "    </tr>\n",
       "    <tr>\n",
       "      <th>Japan</th>\n",
       "      <td>314.0</td>\n",
       "      <td>0.197452</td>\n",
       "      <td>0.398712</td>\n",
       "      <td>0.0</td>\n",
       "      <td>0.00</td>\n",
       "      <td>0.0</td>\n",
       "      <td>0.00</td>\n",
       "      <td>1.0</td>\n",
       "    </tr>\n",
       "  </tbody>\n",
       "</table>\n",
       "</div>"
      ],
      "text/plain": [
       "              count         mean         std  ...     50%      75%     max\n",
       "Cylinders     314.0     5.477707    1.699788  ...     4.0     8.00     8.0\n",
       "Displacement  314.0   195.318471  104.331589  ...   151.0   265.75   455.0\n",
       "Horsepower    314.0   104.869427   38.096214  ...    94.5   128.00   225.0\n",
       "Weight        314.0  2990.251592  843.898596  ...  2822.5  3608.00  5140.0\n",
       "Acceleration  314.0    15.559236    2.789230  ...    15.5    17.20    24.8\n",
       "Model Year    314.0    75.898089    3.675642  ...    76.0    79.00    82.0\n",
       "USA           314.0     0.624204    0.485101  ...     1.0     1.00     1.0\n",
       "Europe        314.0     0.178344    0.383413  ...     0.0     0.00     1.0\n",
       "Japan         314.0     0.197452    0.398712  ...     0.0     0.00     1.0\n",
       "\n",
       "[9 rows x 8 columns]"
      ]
     },
     "execution_count": 21,
     "metadata": {
      "tags": []
     },
     "output_type": "execute_result"
    }
   ],
   "source": [
    "df_Train_Stats = df_TrainingSet.describe()\n",
    "df_Train_Stats.pop(\"MPG\")\n",
    "df_Train_Stats = df_Train_Stats.transpose()\n",
    "df_Train_Stats"
   ]
  },
  {
   "cell_type": "markdown",
   "metadata": {
    "colab_type": "text",
    "id": "71CJqDXBXFtn"
   },
   "source": [
    "## 1.5 Split features from labels"
   ]
  },
  {
   "cell_type": "code",
   "execution_count": 22,
   "metadata": {
    "colab": {
     "base_uri": "https://localhost:8080/",
     "height": 54
    },
    "colab_type": "code",
    "executionInfo": {
     "elapsed": 425,
     "status": "ok",
     "timestamp": 1572836658320,
     "user": {
      "displayName": "Sen Li",
      "photoUrl": "https://lh3.googleusercontent.com/a-/AAuE7mAFpGXjVhiyn6GNt8NgkaEI7tOv9lD42jPpDOysoQ=s64",
      "userId": "02312626306452221696"
     },
     "user_tz": 300
    },
    "id": "GoKs2S4CWz2h",
    "outputId": "9913312d-65bf-4b8b-a498-31c01c21406f"
   },
   "outputs": [
    {
     "name": "stdout",
     "output_type": "stream",
     "text": [
      "ss_Train_Y shape:\t (314,)\n",
      "ss_Test_Y shape:\t (78,)\n"
     ]
    }
   ],
   "source": [
    "ss_Train_Y = df_TrainingSet.pop('MPG')\n",
    "ss_Test_Y = df_TestSet.pop('MPG')\n",
    "print(\"ss_Train_Y shape:\\t\", ss_Train_Y.shape)\n",
    "print(\"ss_Test_Y shape:\\t\", ss_Test_Y.shape)"
   ]
  },
  {
   "cell_type": "markdown",
   "metadata": {
    "colab_type": "text",
    "id": "bt3qpsZAX0Td"
   },
   "source": [
    "## 1.6 Normalize the data\n",
    "Look again at the `train_stats` block above and note how different the ranges of each feature are.\n",
    "\n",
    "It is good practice to normalize features that use different scales and ranges. Although the model *might* converge without feature normalization, it makes training more difficult, and it makes the resulting model dependent on the choice of units used in the input.\n"
   ]
  },
  {
   "cell_type": "code",
   "execution_count": 0,
   "metadata": {
    "colab": {},
    "colab_type": "code",
    "id": "FTsQd3yFXsqT"
   },
   "outputs": [],
   "source": [
    "'''\n",
    "Note: \n",
    "    Although we intentionally generate these statistics from only the training dataset,\n",
    "        these statistics will also be used to normalize the test dataset! \n",
    "    We need to do that to project the test dataset into the same distribution \n",
    "        that the model has been trained on.\n",
    "'''\n",
    "def normalize(X, mean_TrainingSet, std_TrainingSet):\n",
    "    return (X - mean_TrainingSet) / std_TrainingSet"
   ]
  },
  {
   "cell_type": "code",
   "execution_count": 24,
   "metadata": {
    "colab": {
     "base_uri": "https://localhost:8080/",
     "height": 444
    },
    "colab_type": "code",
    "executionInfo": {
     "elapsed": 459,
     "status": "ok",
     "timestamp": 1572838391743,
     "user": {
      "displayName": "Sen Li",
      "photoUrl": "https://lh3.googleusercontent.com/a-/AAuE7mAFpGXjVhiyn6GNt8NgkaEI7tOv9lD42jPpDOysoQ=s64",
      "userId": "02312626306452221696"
     },
     "user_tz": 300
    },
    "id": "yt_MghBgeRN_",
    "outputId": "4027e0dd-c991-4230-e7e4-c882c018c117"
   },
   "outputs": [
    {
     "name": "stdout",
     "output_type": "stream",
     "text": [
      "df_Train_Stats['mean'] shape:\t (9,)\n",
      "normaized_Train_X shape:\t (314, 9)\n"
     ]
    },
    {
     "data": {
      "text/html": [
       "<div>\n",
       "<style scoped>\n",
       "    .dataframe tbody tr th:only-of-type {\n",
       "        vertical-align: middle;\n",
       "    }\n",
       "\n",
       "    .dataframe tbody tr th {\n",
       "        vertical-align: top;\n",
       "    }\n",
       "\n",
       "    .dataframe thead th {\n",
       "        text-align: right;\n",
       "    }\n",
       "</style>\n",
       "<table border=\"1\" class=\"dataframe\">\n",
       "  <thead>\n",
       "    <tr style=\"text-align: right;\">\n",
       "      <th></th>\n",
       "      <th>Cylinders</th>\n",
       "      <th>Displacement</th>\n",
       "      <th>Horsepower</th>\n",
       "      <th>Weight</th>\n",
       "      <th>Acceleration</th>\n",
       "      <th>Model Year</th>\n",
       "      <th>USA</th>\n",
       "      <th>Europe</th>\n",
       "      <th>Japan</th>\n",
       "    </tr>\n",
       "  </thead>\n",
       "  <tbody>\n",
       "    <tr>\n",
       "      <th>146</th>\n",
       "      <td>-0.869348</td>\n",
       "      <td>-1.009459</td>\n",
       "      <td>-0.784052</td>\n",
       "      <td>-1.025303</td>\n",
       "      <td>-0.379759</td>\n",
       "      <td>-0.516397</td>\n",
       "      <td>0.774676</td>\n",
       "      <td>-0.465148</td>\n",
       "      <td>-0.495225</td>\n",
       "    </tr>\n",
       "    <tr>\n",
       "      <th>282</th>\n",
       "      <td>-0.869348</td>\n",
       "      <td>-0.530218</td>\n",
       "      <td>-0.442811</td>\n",
       "      <td>-0.118796</td>\n",
       "      <td>0.624102</td>\n",
       "      <td>0.843910</td>\n",
       "      <td>0.774676</td>\n",
       "      <td>-0.465148</td>\n",
       "      <td>-0.495225</td>\n",
       "    </tr>\n",
       "    <tr>\n",
       "      <th>69</th>\n",
       "      <td>1.483887</td>\n",
       "      <td>1.482595</td>\n",
       "      <td>1.447140</td>\n",
       "      <td>1.736877</td>\n",
       "      <td>-0.738281</td>\n",
       "      <td>-1.060519</td>\n",
       "      <td>0.774676</td>\n",
       "      <td>-0.465148</td>\n",
       "      <td>-0.495225</td>\n",
       "    </tr>\n",
       "    <tr>\n",
       "      <th>378</th>\n",
       "      <td>-0.869348</td>\n",
       "      <td>-0.865687</td>\n",
       "      <td>-1.099044</td>\n",
       "      <td>-1.025303</td>\n",
       "      <td>-0.308055</td>\n",
       "      <td>1.660094</td>\n",
       "      <td>0.774676</td>\n",
       "      <td>-0.465148</td>\n",
       "      <td>-0.495225</td>\n",
       "    </tr>\n",
       "    <tr>\n",
       "      <th>331</th>\n",
       "      <td>-0.869348</td>\n",
       "      <td>-0.942365</td>\n",
       "      <td>-0.994047</td>\n",
       "      <td>-1.001603</td>\n",
       "      <td>0.875068</td>\n",
       "      <td>1.115971</td>\n",
       "      <td>-1.286751</td>\n",
       "      <td>-0.465148</td>\n",
       "      <td>2.012852</td>\n",
       "    </tr>\n",
       "    <tr>\n",
       "      <th>...</th>\n",
       "      <td>...</td>\n",
       "      <td>...</td>\n",
       "      <td>...</td>\n",
       "      <td>...</td>\n",
       "      <td>...</td>\n",
       "      <td>...</td>\n",
       "      <td>...</td>\n",
       "      <td>...</td>\n",
       "      <td>...</td>\n",
       "    </tr>\n",
       "    <tr>\n",
       "      <th>281</th>\n",
       "      <td>0.307270</td>\n",
       "      <td>0.044872</td>\n",
       "      <td>-0.521559</td>\n",
       "      <td>-0.000298</td>\n",
       "      <td>0.946772</td>\n",
       "      <td>0.843910</td>\n",
       "      <td>0.774676</td>\n",
       "      <td>-0.465148</td>\n",
       "      <td>-0.495225</td>\n",
       "    </tr>\n",
       "    <tr>\n",
       "      <th>229</th>\n",
       "      <td>1.483887</td>\n",
       "      <td>1.961837</td>\n",
       "      <td>1.972127</td>\n",
       "      <td>1.457223</td>\n",
       "      <td>-1.598734</td>\n",
       "      <td>0.299787</td>\n",
       "      <td>0.774676</td>\n",
       "      <td>-0.465148</td>\n",
       "      <td>-0.495225</td>\n",
       "    </tr>\n",
       "    <tr>\n",
       "      <th>150</th>\n",
       "      <td>-0.869348</td>\n",
       "      <td>-0.836932</td>\n",
       "      <td>-0.311564</td>\n",
       "      <td>-0.710099</td>\n",
       "      <td>-0.021237</td>\n",
       "      <td>-0.516397</td>\n",
       "      <td>-1.286751</td>\n",
       "      <td>-0.465148</td>\n",
       "      <td>2.012852</td>\n",
       "    </tr>\n",
       "    <tr>\n",
       "      <th>145</th>\n",
       "      <td>-0.869348</td>\n",
       "      <td>-1.076553</td>\n",
       "      <td>-1.151543</td>\n",
       "      <td>-1.169870</td>\n",
       "      <td>1.233589</td>\n",
       "      <td>-0.516397</td>\n",
       "      <td>-1.286751</td>\n",
       "      <td>-0.465148</td>\n",
       "      <td>2.012852</td>\n",
       "    </tr>\n",
       "    <tr>\n",
       "      <th>182</th>\n",
       "      <td>-0.869348</td>\n",
       "      <td>-0.846517</td>\n",
       "      <td>-0.495310</td>\n",
       "      <td>-0.623596</td>\n",
       "      <td>-0.021237</td>\n",
       "      <td>0.027726</td>\n",
       "      <td>-1.286751</td>\n",
       "      <td>2.143005</td>\n",
       "      <td>-0.495225</td>\n",
       "    </tr>\n",
       "  </tbody>\n",
       "</table>\n",
       "<p>314 rows × 9 columns</p>\n",
       "</div>"
      ],
      "text/plain": [
       "     Cylinders  Displacement  Horsepower  ...       USA    Europe     Japan\n",
       "146  -0.869348     -1.009459   -0.784052  ...  0.774676 -0.465148 -0.495225\n",
       "282  -0.869348     -0.530218   -0.442811  ...  0.774676 -0.465148 -0.495225\n",
       "69    1.483887      1.482595    1.447140  ...  0.774676 -0.465148 -0.495225\n",
       "378  -0.869348     -0.865687   -1.099044  ...  0.774676 -0.465148 -0.495225\n",
       "331  -0.869348     -0.942365   -0.994047  ... -1.286751 -0.465148  2.012852\n",
       "..         ...           ...         ...  ...       ...       ...       ...\n",
       "281   0.307270      0.044872   -0.521559  ...  0.774676 -0.465148 -0.495225\n",
       "229   1.483887      1.961837    1.972127  ...  0.774676 -0.465148 -0.495225\n",
       "150  -0.869348     -0.836932   -0.311564  ... -1.286751 -0.465148  2.012852\n",
       "145  -0.869348     -1.076553   -1.151543  ... -1.286751 -0.465148  2.012852\n",
       "182  -0.869348     -0.846517   -0.495310  ... -1.286751  2.143005 -0.495225\n",
       "\n",
       "[314 rows x 9 columns]"
      ]
     },
     "execution_count": 24,
     "metadata": {
      "tags": []
     },
     "output_type": "execute_result"
    }
   ],
   "source": [
    "normaized_Train_X = normalize(df_TrainingSet, df_Train_Stats['mean'], df_Train_Stats['std'])\n",
    "normaized_Test_X = normalize(df_TestSet, df_Train_Stats['mean'], df_Train_Stats['std'])\n",
    "print(\"df_Train_Stats['mean'] shape:\\t\", df_Train_Stats['mean'].shape)\n",
    "print(\"normaized_Train_X shape:\\t\", normaized_Train_X.shape)\n",
    "normaized_Train_X"
   ]
  },
  {
   "cell_type": "markdown",
   "metadata": {
    "colab_type": "text",
    "id": "lp5UUnSRfTt2"
   },
   "source": [
    "# 2. Keras Model\n",
    "## 2.1 Build the model"
   ]
  },
  {
   "cell_type": "code",
   "execution_count": 0,
   "metadata": {
    "colab": {},
    "colab_type": "code",
    "id": "q8ILCh7ReT2D"
   },
   "outputs": [],
   "source": [
    "'''\n",
    "    use a Sequential model with two densely connected hidden layers, \n",
    "    Output layer that returns a single, continuous value\n",
    "'''\n",
    "\n",
    "def getTwoLayersSequential(sizeInput, strActication, layerNodesCount):\n",
    "    model = keras.Sequential([\n",
    "        layers.Dense(layerNodesCount, activation=strActication, input_shape=[sizeInput]),\n",
    "        layers.Dense(layerNodesCount, activation=strActication),\n",
    "        layers.Dense(1)\n",
    "    ])\n",
    "\n",
    "    optimizer = tf.keras.optimizers.RMSprop(0.001)\n",
    "    model.compile(loss='mse', optimizer=optimizer, metrics=['mae', 'mse'])\n",
    "\n",
    "    return model"
   ]
  },
  {
   "cell_type": "code",
   "execution_count": 26,
   "metadata": {
    "colab": {
     "base_uri": "https://localhost:8080/",
     "height": 72
    },
    "colab_type": "code",
    "executionInfo": {
     "elapsed": 636,
     "status": "ok",
     "timestamp": 1572845661126,
     "user": {
      "displayName": "Sen Li",
      "photoUrl": "https://lh3.googleusercontent.com/a-/AAuE7mAFpGXjVhiyn6GNt8NgkaEI7tOv9lD42jPpDOysoQ=s64",
      "userId": "02312626306452221696"
     },
     "user_tz": 300
    },
    "id": "9U94lOC356j6",
    "outputId": "539756de-5680-4aba-f1a8-2b953b8e897c"
   },
   "outputs": [
    {
     "data": {
      "text/plain": [
       "Index(['Cylinders', 'Displacement', 'Horsepower', 'Weight', 'Acceleration',\n",
       "       'Model Year', 'USA', 'Europe', 'Japan'],\n",
       "      dtype='object')"
      ]
     },
     "execution_count": 26,
     "metadata": {
      "tags": []
     },
     "output_type": "execute_result"
    }
   ],
   "source": [
    "features_X = df_TrainingSet.keys()\n",
    "features_X"
   ]
  },
  {
   "cell_type": "code",
   "execution_count": 48,
   "metadata": {
    "colab": {
     "base_uri": "https://localhost:8080/",
     "height": 290
    },
    "colab_type": "code",
    "executionInfo": {
     "elapsed": 414,
     "status": "ok",
     "timestamp": 1572850764811,
     "user": {
      "displayName": "Sen Li",
      "photoUrl": "https://lh3.googleusercontent.com/a-/AAuE7mAFpGXjVhiyn6GNt8NgkaEI7tOv9lD42jPpDOysoQ=s64",
      "userId": "02312626306452221696"
     },
     "user_tz": 300
    },
    "id": "FimOcUld56ss",
    "outputId": "58c0453b-4535-4c08-fac1-df63929d5eee"
   },
   "outputs": [
    {
     "name": "stdout",
     "output_type": "stream",
     "text": [
      "NN Input size = \t 9\n",
      "Model: \"sequential_2\"\n",
      "_________________________________________________________________\n",
      "Layer (type)                 Output Shape              Param #   \n",
      "=================================================================\n",
      "dense_6 (Dense)              (None, 64)                640       \n",
      "_________________________________________________________________\n",
      "dense_7 (Dense)              (None, 64)                4160      \n",
      "_________________________________________________________________\n",
      "dense_8 (Dense)              (None, 1)                 65        \n",
      "=================================================================\n",
      "Total params: 4,865\n",
      "Trainable params: 4,865\n",
      "Non-trainable params: 0\n",
      "_________________________________________________________________\n"
     ]
    }
   ],
   "source": [
    "sizeInput = len(features_X)\n",
    "print(\"NN Input size = \\t\", sizeInput)\n",
    "\n",
    "modelSequential = keras.Sequential([\n",
    "    layers.Dense(64, activation='relu', input_shape=[sizeInput]),\n",
    "    layers.Dense(64, activation='relu'),\n",
    "    layers.Dense(1)\n",
    "])\n",
    "optimizer = tf.keras.optimizers.RMSprop(0.001)\n",
    "modelSequential.compile(loss='mse', optimizer=optimizer, metrics=['mae', 'mse'])\n",
    "\n",
    "modelSequential.summary()"
   ]
  },
  {
   "cell_type": "code",
   "execution_count": 29,
   "metadata": {
    "colab": {
     "base_uri": "https://localhost:8080/",
     "height": 235
    },
    "colab_type": "code",
    "executionInfo": {
     "elapsed": 6568,
     "status": "ok",
     "timestamp": 1572845822706,
     "user": {
      "displayName": "Sen Li",
      "photoUrl": "https://lh3.googleusercontent.com/a-/AAuE7mAFpGXjVhiyn6GNt8NgkaEI7tOv9lD42jPpDOysoQ=s64",
      "userId": "02312626306452221696"
     },
     "user_tz": 300
    },
    "id": "YaRtvLzs6gYa",
    "outputId": "a011c9e6-dc56-4e8f-aa58-d1931738bd95"
   },
   "outputs": [
    {
     "name": "stdout",
     "output_type": "stream",
     "text": [
      "Collecting GPUtil\n",
      "  Downloading https://files.pythonhosted.org/packages/ed/0e/5c61eedde9f6c87713e89d794f01e378cfd9565847d4576fa627d758c554/GPUtil-1.4.0.tar.gz\n",
      "Building wheels for collected packages: GPUtil\n",
      "  Building wheel for GPUtil (setup.py) ... \u001b[?25l\u001b[?25hdone\n",
      "  Created wheel for GPUtil: filename=GPUtil-1.4.0-cp36-none-any.whl size=7410 sha256=1e1db40933baf2d494aaaaa7c84ef9671ab7e9ba8eda4865f3a669da57166ee5\n",
      "  Stored in directory: /root/.cache/pip/wheels/3d/77/07/80562de4bb0786e5ea186911a2c831fdd0018bda69beab71fd\n",
      "Successfully built GPUtil\n",
      "Installing collected packages: GPUtil\n",
      "Successfully installed GPUtil-1.4.0\n",
      "GPUs numbers: \t 1\n",
      "GPU name: \t Tesla K80\n",
      "GPU RAM Free: 11308MB | Used: 133MB | Util   1% | Total 11441MB\n"
     ]
    }
   ],
   "source": [
    "!pip install GPUtil\n",
    "import GPUtil as GPU\n",
    "GPUs = GPU.getGPUs()\n",
    "gpu = GPUs[0]\n",
    "print(\"GPUs numbers: \\t\", len(GPUs))\n",
    "print(\"GPU name: \\t\", gpu.name)\n",
    "print(\"GPU RAM Free: {0:.0f}MB | Used: {1:.0f}MB | Util {2:3.0f}% | Total {3:.0f}MB\".format(gpu.memoryFree, gpu.memoryUsed, gpu.memoryUtil*100, gpu.memoryTotal))\n"
   ]
  },
  {
   "cell_type": "markdown",
   "metadata": {
    "colab_type": "text",
    "id": "S8-SN52e56_f"
   },
   "source": [
    "## 2.2 Train the model\n",
    "\n",
    "Train the model for 1000 epochs, and record the training and validation accuracy in the `history` object.\n",
    "\n"
   ]
  },
  {
   "cell_type": "code",
   "execution_count": 0,
   "metadata": {
    "colab": {},
    "colab_type": "code",
    "id": "t5bhsvYC56zW"
   },
   "outputs": [],
   "source": [
    "# Display training progress by printing a single dot for each completed epoch\n",
    "class PrintEpochCompletedCount(keras.callbacks.Callback):\n",
    "    def on_epoch_end(self, epoch, logs):\n",
    "        if epoch == 0:\n",
    "            print('\\nEpoch Completed Count: \\n', end='')\n",
    "        elif (epoch + 1) % 100 == 0:\n",
    "            print(epoch + 1)\n",
    "        elif (epoch + 1) % 10 == 0:\n",
    "            print(epoch + 1, end='\\t')"
   ]
  },
  {
   "cell_type": "code",
   "execution_count": 49,
   "metadata": {
    "colab": {
     "base_uri": "https://localhost:8080/",
     "height": 272
    },
    "colab_type": "code",
    "executionInfo": {
     "elapsed": 36274,
     "status": "ok",
     "timestamp": 1572850807059,
     "user": {
      "displayName": "Sen Li",
      "photoUrl": "https://lh3.googleusercontent.com/a-/AAuE7mAFpGXjVhiyn6GNt8NgkaEI7tOv9lD42jPpDOysoQ=s64",
      "userId": "02312626306452221696"
     },
     "user_tz": 300
    },
    "id": "cPtZK9_PBl9o",
    "outputId": "f88dac7b-99ae-4313-97be-3897ad83af4f"
   },
   "outputs": [
    {
     "name": "stdout",
     "output_type": "stream",
     "text": [
      "WARNING:tensorflow:Falling back from v2 loop because of error: Failed to find data adapter that can handle input: <class 'pandas.core.frame.DataFrame'>, <class 'NoneType'>\n",
      "\n",
      "Epoch Completed Count: \n",
      "10\t20\t30\t40\t50\t60\t70\t80\t90\t100\n",
      "110\t120\t130\t140\t150\t160\t170\t180\t190\t200\n",
      "210\t220\t230\t240\t250\t260\t270\t280\t290\t300\n",
      "310\t320\t330\t340\t350\t360\t370\t380\t390\t400\n",
      "410\t420\t430\t440\t450\t460\t470\t480\t490\t500\n",
      "510\t520\t530\t540\t550\t560\t570\t580\t590\t600\n",
      "610\t620\t630\t640\t650\t660\t670\t680\t690\t700\n",
      "710\t720\t730\t740\t750\t760\t770\t780\t790\t800\n",
      "810\t820\t830\t840\t850\t860\t870\t880\t890\t900\n",
      "910\t920\t930\t940\t950\t960\t970\t980\t990\t1000\n",
      "Two Layer Sequential 1000 epoches RunTime is 0.6011 mins\n"
     ]
    }
   ],
   "source": [
    "SIZE_EPOCHS = 1000\n",
    "VERBOSE_SILENT = 0\n",
    "\n",
    "timeStart = time.time()\n",
    "\n",
    "lossHistory = modelSequential.fit(normaized_Train_X, ss_Train_Y, epochs=SIZE_EPOCHS, \\\n",
    "        validation_split = 0.2, verbose=VERBOSE_SILENT,callbacks=[PrintEpochCompletedCount()])\n",
    "\n",
    "timeEnd = time.time()\n",
    "runtime = timeEnd - timeStart\n",
    "print('Two Layer Sequential {} epoches RunTime is {:.4f}'.format(SIZE_EPOCHS, runtime/60)+' mins')"
   ]
  },
  {
   "cell_type": "code",
   "execution_count": 50,
   "metadata": {
    "colab": {
     "base_uri": "https://localhost:8080/",
     "height": 217
    },
    "colab_type": "code",
    "executionInfo": {
     "elapsed": 35960,
     "status": "ok",
     "timestamp": 1572850807193,
     "user": {
      "displayName": "Sen Li",
      "photoUrl": "https://lh3.googleusercontent.com/a-/AAuE7mAFpGXjVhiyn6GNt8NgkaEI7tOv9lD42jPpDOysoQ=s64",
      "userId": "02312626306452221696"
     },
     "user_tz": 300
    },
    "id": "_GU9pIJKD6uv",
    "outputId": "a7f16a5d-97ba-4830-d607-a6fee76fcb3e"
   },
   "outputs": [
    {
     "name": "stdout",
     "output_type": "stream",
     "text": [
      "WARNING:tensorflow:Falling back from v2 loop because of error: Failed to find data adapter that can handle input: <class 'pandas.core.frame.DataFrame'>, <class 'NoneType'>\n"
     ]
    },
    {
     "data": {
      "text/plain": [
       "array([[15.595378],\n",
       "       [ 8.935755],\n",
       "       [ 9.664727],\n",
       "       [23.962431],\n",
       "       [19.772842],\n",
       "       [12.690029],\n",
       "       [13.533195],\n",
       "       [11.355146],\n",
       "       [19.071815],\n",
       "       [32.83645 ]], dtype=float32)"
      ]
     },
     "execution_count": 50,
     "metadata": {
      "tags": []
     },
     "output_type": "execute_result"
    }
   ],
   "source": [
    "tenHeadTestSetPredict = modelSequential.predict(normaized_Test_X[:10])\n",
    "tenHeadTestSetPredict"
   ]
  },
  {
   "cell_type": "markdown",
   "metadata": {
    "colab_type": "text",
    "id": "nPm5DIZ0HZUP"
   },
   "source": [
    "## 2.3 Visualize Loss History"
   ]
  },
  {
   "cell_type": "code",
   "execution_count": 51,
   "metadata": {
    "colab": {
     "base_uri": "https://localhost:8080/",
     "height": 198
    },
    "colab_type": "code",
    "executionInfo": {
     "elapsed": 35317,
     "status": "ok",
     "timestamp": 1572850807194,
     "user": {
      "displayName": "Sen Li",
      "photoUrl": "https://lh3.googleusercontent.com/a-/AAuE7mAFpGXjVhiyn6GNt8NgkaEI7tOv9lD42jPpDOysoQ=s64",
      "userId": "02312626306452221696"
     },
     "user_tz": 300
    },
    "id": "J5jZxYYwB1iS",
    "outputId": "be86a417-ac52-4c28-c7af-3e0735093323"
   },
   "outputs": [
    {
     "data": {
      "text/html": [
       "<div>\n",
       "<style scoped>\n",
       "    .dataframe tbody tr th:only-of-type {\n",
       "        vertical-align: middle;\n",
       "    }\n",
       "\n",
       "    .dataframe tbody tr th {\n",
       "        vertical-align: top;\n",
       "    }\n",
       "\n",
       "    .dataframe thead th {\n",
       "        text-align: right;\n",
       "    }\n",
       "</style>\n",
       "<table border=\"1\" class=\"dataframe\">\n",
       "  <thead>\n",
       "    <tr style=\"text-align: right;\">\n",
       "      <th></th>\n",
       "      <th>loss</th>\n",
       "      <th>mae</th>\n",
       "      <th>mse</th>\n",
       "      <th>val_loss</th>\n",
       "      <th>val_mae</th>\n",
       "      <th>val_mse</th>\n",
       "      <th>epoch</th>\n",
       "    </tr>\n",
       "  </thead>\n",
       "  <tbody>\n",
       "    <tr>\n",
       "      <th>995</th>\n",
       "      <td>2.447715</td>\n",
       "      <td>0.975344</td>\n",
       "      <td>2.447715</td>\n",
       "      <td>8.049093</td>\n",
       "      <td>2.154509</td>\n",
       "      <td>8.049093</td>\n",
       "      <td>995</td>\n",
       "    </tr>\n",
       "    <tr>\n",
       "      <th>996</th>\n",
       "      <td>2.493727</td>\n",
       "      <td>1.023321</td>\n",
       "      <td>2.493727</td>\n",
       "      <td>8.328532</td>\n",
       "      <td>2.194888</td>\n",
       "      <td>8.328532</td>\n",
       "      <td>996</td>\n",
       "    </tr>\n",
       "    <tr>\n",
       "      <th>997</th>\n",
       "      <td>2.629797</td>\n",
       "      <td>0.988027</td>\n",
       "      <td>2.629797</td>\n",
       "      <td>8.240900</td>\n",
       "      <td>2.186118</td>\n",
       "      <td>8.240900</td>\n",
       "      <td>997</td>\n",
       "    </tr>\n",
       "    <tr>\n",
       "      <th>998</th>\n",
       "      <td>2.499687</td>\n",
       "      <td>0.969288</td>\n",
       "      <td>2.499687</td>\n",
       "      <td>8.086346</td>\n",
       "      <td>2.194663</td>\n",
       "      <td>8.086347</td>\n",
       "      <td>998</td>\n",
       "    </tr>\n",
       "    <tr>\n",
       "      <th>999</th>\n",
       "      <td>2.607055</td>\n",
       "      <td>0.995583</td>\n",
       "      <td>2.607055</td>\n",
       "      <td>7.372538</td>\n",
       "      <td>2.081017</td>\n",
       "      <td>7.372538</td>\n",
       "      <td>999</td>\n",
       "    </tr>\n",
       "  </tbody>\n",
       "</table>\n",
       "</div>"
      ],
      "text/plain": [
       "         loss       mae       mse  val_loss   val_mae   val_mse  epoch\n",
       "995  2.447715  0.975344  2.447715  8.049093  2.154509  8.049093    995\n",
       "996  2.493727  1.023321  2.493727  8.328532  2.194888  8.328532    996\n",
       "997  2.629797  0.988027  2.629797  8.240900  2.186118  8.240900    997\n",
       "998  2.499687  0.969288  2.499687  8.086346  2.194663  8.086347    998\n",
       "999  2.607055  0.995583  2.607055  7.372538  2.081017  7.372538    999"
      ]
     },
     "execution_count": 51,
     "metadata": {
      "tags": []
     },
     "output_type": "execute_result"
    }
   ],
   "source": [
    "df_LossHistory = pd.DataFrame(lossHistory.history)\n",
    "df_LossHistory['epoch'] = lossHistory.epoch\n",
    "df_LossHistory.tail()"
   ]
  },
  {
   "cell_type": "code",
   "execution_count": 0,
   "metadata": {
    "colab": {},
    "colab_type": "code",
    "id": "evesAY1gE31C"
   },
   "outputs": [],
   "source": [
    "def plot_LossHistory(lossHistory):\n",
    "    df_LossHistory = pd.DataFrame(lossHistory.history)\n",
    "    df_LossHistory['epoch'] = lossHistory.epoch\n",
    "\n",
    "    plt.figure()\n",
    "    plt.xlabel('Epoch'); plt.ylabel('Mean Abs Error [MPG]')\n",
    "    plt.plot(df_LossHistory['epoch'], df_LossHistory['mae'],     label = 'Train Error')\n",
    "    plt.plot(df_LossHistory['epoch'], df_LossHistory['val_mae'], label = 'Val Error')\n",
    "    plt.ylim([0,5]); plt.legend()\n",
    "\n",
    "    plt.figure()\n",
    "    plt.xlabel('Epoch'); plt.ylabel('Mean Square Error [$MPG^2$]')\n",
    "    plt.plot(df_LossHistory['epoch'], df_LossHistory['mse'],     label = 'Train Error')\n",
    "    plt.plot(df_LossHistory['epoch'], df_LossHistory['val_mse'], label = 'Val Error')\n",
    "    plt.ylim([0,20]); plt.legend()\n",
    "    plt.show()"
   ]
  },
  {
   "cell_type": "code",
   "execution_count": 53,
   "metadata": {
    "colab": {
     "base_uri": "https://localhost:8080/",
     "height": 549
    },
    "colab_type": "code",
    "executionInfo": {
     "elapsed": 35599,
     "status": "ok",
     "timestamp": 1572850807966,
     "user": {
      "displayName": "Sen Li",
      "photoUrl": "https://lh3.googleusercontent.com/a-/AAuE7mAFpGXjVhiyn6GNt8NgkaEI7tOv9lD42jPpDOysoQ=s64",
      "userId": "02312626306452221696"
     },
     "user_tz": 300
    },
    "id": "VRrZbQAPJEDd",
    "outputId": "49a29b09-f6b5-4ee1-936c-3d75f5743f68"
   },
   "outputs": [
    {
     "data": {
      "image/png": "[encoded data removed]",
      "text/plain": [
       "<Figure size 432x288 with 1 Axes>"
      ]
     },
     "metadata": {
      "tags": []
     },
     "output_type": "display_data"
    },
    {
     "data": {
      "image/png": "[encoded data removed]",
      "text/plain": [
       "<Figure size 432x288 with 1 Axes>"
      ]
     },
     "metadata": {
      "tags": []
     },
     "output_type": "display_data"
    }
   ],
   "source": [
    "plot_LossHistory(lossHistory)"
   ]
  },
  {
   "cell_type": "markdown",
   "metadata": {
    "colab_type": "text",
    "id": "NIQMTH0SJ7bc"
   },
   "source": [
    "This graph shows little improvement, or even degradation in the validation error after about 100 epochs. Let's update the `model.fit` call to automatically stop training when the validation score doesn't improve. We'll use an *EarlyStopping callback* that tests a training condition for  every epoch. If a set amount of epochs elapses without showing improvement, then automatically stop the training.\n",
    "\n",
    "You can learn more about this callback [here](https://www.tensorflow.org/versions/master/api_docs/python/tf/keras/callbacks/EarlyStopping)."
   ]
  },
  {
   "cell_type": "markdown",
   "metadata": {
    "colab_type": "text",
    "id": "x1ucgrOaJ-9N"
   },
   "source": [
    "## 2.4 Early Stop"
   ]
  },
  {
   "cell_type": "code",
   "execution_count": 56,
   "metadata": {
    "colab": {
     "base_uri": "https://localhost:8080/",
     "height": 622
    },
    "colab_type": "code",
    "executionInfo": {
     "elapsed": 3185,
     "status": "ok",
     "timestamp": 1572851200653,
     "user": {
      "displayName": "Sen Li",
      "photoUrl": "https://lh3.googleusercontent.com/a-/AAuE7mAFpGXjVhiyn6GNt8NgkaEI7tOv9lD42jPpDOysoQ=s64",
      "userId": "02312626306452221696"
     },
     "user_tz": 300
    },
    "id": "aJFSRDrOJFub",
    "outputId": "58c89068-81b0-4f31-bd0f-bdc4ad5d2211"
   },
   "outputs": [
    {
     "name": "stdout",
     "output_type": "stream",
     "text": [
      "WARNING:tensorflow:Falling back from v2 loop because of error: Failed to find data adapter that can handle input: <class 'pandas.core.frame.DataFrame'>, <class 'NoneType'>\n",
      "\n",
      "Epoch Completed Count: \n",
      "10\t20\t30\t40\t50\t"
     ]
    },
    {
     "data": {
      "image/png": "[encoded data removed]",
      "text/plain": [
       "<Figure size 432x288 with 1 Axes>"
      ]
     },
     "metadata": {
      "tags": []
     },
     "output_type": "display_data"
    },
    {
     "data": {
      "image/png": "[encoded data removed]",
      "text/plain": [
       "<Figure size 432x288 with 1 Axes>"
      ]
     },
     "metadata": {
      "tags": []
     },
     "output_type": "display_data"
    }
   ],
   "source": [
    "modelSequential = getTwoLayersSequential(sizeInput, 'relu', 64)\n",
    "\n",
    "optimizer = tf.keras.optimizers.RMSprop(0.001)\n",
    "modelSequential.compile(loss='mse', optimizer=optimizer, metrics=['mae', 'mse'])\n",
    "\n",
    "# The patience parameter is the amount of epochs to check for improvement\n",
    "earlyStop = keras.callbacks.EarlyStopping(monitor='val_loss', patience=10)\n",
    "\n",
    "earlyStop_LossHistory = modelSequential.fit(normaized_Train_X, ss_Train_Y, epochs=SIZE_EPOCHS, \\\n",
    "    validation_split = 0.2, verbose=VERBOSE_SILENT,callbacks=[earlyStop, PrintEpochCompletedCount()])\n",
    "\n",
    "plot_LossHistory(earlyStop_LossHistory)"
   ]
  },
  {
   "cell_type": "markdown",
   "metadata": {
    "colab_type": "text",
    "id": "1bygKrlUO7yt"
   },
   "source": [
    "## 2.5 Evaluate Model"
   ]
  },
  {
   "cell_type": "code",
   "execution_count": 57,
   "metadata": {
    "colab": {
     "base_uri": "https://localhost:8080/",
     "height": 72
    },
    "colab_type": "code",
    "executionInfo": {
     "elapsed": 469,
     "status": "ok",
     "timestamp": 1572851208580,
     "user": {
      "displayName": "Sen Li",
      "photoUrl": "https://lh3.googleusercontent.com/a-/AAuE7mAFpGXjVhiyn6GNt8NgkaEI7tOv9lD42jPpDOysoQ=s64",
      "userId": "02312626306452221696"
     },
     "user_tz": 300
    },
    "id": "wDPXhGjGLDZb",
    "outputId": "372fb7ac-d96f-452d-cf77-3f62b29bd57d"
   },
   "outputs": [
    {
     "name": "stdout",
     "output_type": "stream",
     "text": [
      "WARNING:tensorflow:Falling back from v2 loop because of error: Failed to find data adapter that can handle input: <class 'pandas.core.frame.DataFrame'>, <class 'NoneType'>\n",
      "78/78 - 0s - loss: 6.0169 - mae: 1.8883 - mse: 6.0169\n",
      "TestSet Mean Abs Error:  1.89 MPG\n"
     ]
    }
   ],
   "source": [
    "loss, mae, mse = modelSequential.evaluate(normaized_Test_X, ss_Test_Y, verbose=2)\n",
    "\n",
    "print(\"TestSet Mean Abs Error: {:5.2f} MPG\".format(mae))"
   ]
  },
  {
   "cell_type": "code",
   "execution_count": 58,
   "metadata": {
    "colab": {
     "base_uri": "https://localhost:8080/",
     "height": 297
    },
    "colab_type": "code",
    "executionInfo": {
     "elapsed": 592,
     "status": "ok",
     "timestamp": 1572851451513,
     "user": {
      "displayName": "Sen Li",
      "photoUrl": "https://lh3.googleusercontent.com/a-/AAuE7mAFpGXjVhiyn6GNt8NgkaEI7tOv9lD42jPpDOysoQ=s64",
      "userId": "02312626306452221696"
     },
     "user_tz": 300
    },
    "id": "Wc_azLOwPCnE",
    "outputId": "7030e81b-8841-4e66-a37d-8e8ba524cfec"
   },
   "outputs": [
    {
     "name": "stdout",
     "output_type": "stream",
     "text": [
      "WARNING:tensorflow:Falling back from v2 loop because of error: Failed to find data adapter that can handle input: <class 'pandas.core.frame.DataFrame'>, <class 'NoneType'>\n"
     ]
    },
    {
     "data": {
      "image/png": "[encoded data removed]",
      "text/plain": [
       "<Figure size 432x288 with 1 Axes>"
      ]
     },
     "metadata": {
      "tags": []
     },
     "output_type": "display_data"
    }
   ],
   "source": [
    "y_Test_Predict = modelSequential.predict(normaized_Test_X).flatten()\n",
    "\n",
    "plt.scatter(ss_Test_Y, y_Test_Predict)\n",
    "plt.xlabel('True Values [MPG]'); plt.ylabel('Predictions [MPG]')\n",
    "plt.axis('equal'); plt.axis('square')\n",
    "plt.xlim([0,plt.xlim()[1]]); plt.ylim([0,plt.ylim()[1]])\n",
    "_ = plt.plot([-100, 100], [-100, 100])"
   ]
  },
  {
   "cell_type": "markdown",
   "metadata": {
    "colab_type": "text",
    "id": "46bquyGVQJHP"
   },
   "source": [
    "It looks like our model predicts reasonably well."
   ]
  },
  {
   "cell_type": "code",
   "execution_count": 59,
   "metadata": {
    "colab": {
     "base_uri": "https://localhost:8080/",
     "height": 297
    },
    "colab_type": "code",
    "executionInfo": {
     "elapsed": 461,
     "status": "ok",
     "timestamp": 1572851607507,
     "user": {
      "displayName": "Sen Li",
      "photoUrl": "https://lh3.googleusercontent.com/a-/AAuE7mAFpGXjVhiyn6GNt8NgkaEI7tOv9lD42jPpDOysoQ=s64",
      "userId": "02312626306452221696"
     },
     "user_tz": 300
    },
    "id": "MUTRpQvnQIOH",
    "outputId": "1842b0ed-b9dc-4232-cb85-e06792423d3b"
   },
   "outputs": [
    {
     "data": {
      "text/plain": [
       "Text(0, 0.5, 'Count')"
      ]
     },
     "execution_count": 59,
     "metadata": {
      "tags": []
     },
     "output_type": "execute_result"
    },
    {
     "data": {
      "image/png": "[encoded data removed]",
      "text/plain": [
       "<Figure size 432x288 with 1 Axes>"
      ]
     },
     "metadata": {
      "tags": []
     },
     "output_type": "display_data"
    }
   ],
   "source": [
    "# look at the error distribution\n",
    "ss_Error = y_Test_Predict - ss_Test_Y\n",
    "plt.hist(ss_Error, bins = 25)\n",
    "plt.xlabel(\"Prediction Error [MPG]\")\n",
    "plt.ylabel(\"Count\")"
   ]
  },
  {
   "cell_type": "markdown",
   "metadata": {
    "colab_type": "text",
    "id": "SrhbUnF0QsHb"
   },
   "source": [
    "It's not quite gaussian, but we might expect that because the number of samples is very small."
   ]
  },
  {
   "cell_type": "code",
   "execution_count": 0,
   "metadata": {
    "colab": {},
    "colab_type": "code",
    "id": "jnBA6LsbQso4"
   },
   "outputs": [],
   "source": []
  }
 ],
 "metadata": {
  "accelerator": "GPU",
  "colab": {
   "collapsed_sections": [],
   "name": "Colab_02_1_Keras_RegressionExample",
   "provenance": []
  },
  "kernelspec": {
   "display_name": "Python 3",
   "language": "python",
   "name": "python3"
  },
  "language_info": {
   "codemirror_mode": {
    "name": "ipython",
    "version": 3
   },
   "file_extension": ".py",
   "mimetype": "text/x-python",
   "name": "python",
   "nbconvert_exporter": "python",
   "pygments_lexer": "ipython3",
   "version": "3.7.5"
  }
 },
 "nbformat": 4,
 "nbformat_minor": 1
}
